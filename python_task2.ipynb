{
 "cells": [
  {
   "cell_type": "raw",
   "id": "714e075a-2b97-401d-9647-6bcf86b1e8c5",
   "metadata": {},
   "source": [
    "Q1. You are writing code for a company. The requirement of the company is that you create a python\n",
    "function that will check whether the password entered by the user is correct or not. The function should\n",
    "take the password as input and return the string “Valid Password” if the entered password follows the\n",
    "below-given password guidelines else it should return “Invalid Password”.\n",
    "Note: 1. The Password should contain at least two uppercase letters and at least two lowercase letters.\n",
    "2. The Password should contain at least a number and three special characters.\n",
    "3. The length of the password should be 10 characters long.\n",
    "\n"
   ]
  },
  {
   "cell_type": "code",
   "execution_count": 1,
   "id": "eea96731-42a4-4949-ab06-9c7af625497b",
   "metadata": {
    "tags": []
   },
   "outputs": [
    {
     "name": "stdin",
     "output_type": "stream",
     "text": [
      "Enter your password @#$QWer1111\n"
     ]
    },
    {
     "name": "stdout",
     "output_type": "stream",
     "text": [
      "Valid Password\n"
     ]
    }
   ],
   "source": [
    "password = input(\"Enter your password\")\n",
    "l,m,n,o,p = 0,0,0,0,0\n",
    "l1 = []\n",
    "for x in password: \n",
    "    if x.isupper():\n",
    "        l1.append(x)\n",
    "if len(l1)>=2:\n",
    "        l = l+1\n",
    "l2 = []    \n",
    "for x in password: \n",
    "    if x.islower():\n",
    "        l2.append(x)\n",
    "if len(l2)>=2:\n",
    "        m +=1\n",
    "l3 = []    \n",
    "for x in password: \n",
    "    if x.isnumeric():\n",
    "        l3.append(x)\n",
    "if len(l3)>=1:\n",
    "        n+=1\n",
    "if len(password)>=10:\n",
    "    o += 1\n",
    "l4 =\"[$&+,:;=?@#|'<>.-^*()%!]\"\n",
    "l5 = []\n",
    "for x in password:\n",
    "    for i in range(len(l4)):\n",
    "        if x == l4[i]:\n",
    "            l5.append(x)\n",
    "if len(l5)>=3:\n",
    "        p += 1\n",
    "if l == 1 and m == 1 and n == 1 and o == 1 and p == 1:\n",
    "    print(\"Valid Password\")\n",
    "else:\n",
    "    print(\"Invalid Password\")\n",
    "    "
   ]
  },
  {
   "cell_type": "raw",
   "id": "652e5971-c1e9-4015-bff5-8e74ea284ce4",
   "metadata": {},
   "source": [
    "Q2. Solve the below-given questions using at least one of the following:\n",
    "1. Lambda functioJ\n",
    "2. Filter functioJ\n",
    "3. Zap functioJ\n",
    "4. List ComprehensioI\n",
    "B Check if the string starts with a particular letterY\n",
    "B Check if the string is numericY\n",
    "B Sort a list of tuples having fruit names and their quantity. [(\"mango\",99),(\"orange\",80), (\"grapes\", 1000)-\n",
    "B Find the squares of numbers from 1 to 10Y\n",
    "B Find the cube root of numbers from 1 to 10Y\n",
    "B Check if a given number is evenY\n",
    "B Filter odd numbers from the given list.\n",
    "[1,2,3,4,5,6,7,8,9,10-\n",
    "B Sort a list of integers into positive and negative integers lists.\n",
    "[1,2,3,4,5,6,-1,-2,-3,-4,-5,0]"
   ]
  },
  {
   "cell_type": "code",
   "execution_count": 2,
   "id": "c04f9251-5c66-4f2b-a1e8-49bd0998fb37",
   "metadata": {},
   "outputs": [
    {
     "name": "stdin",
     "output_type": "stream",
     "text": [
      "enter your string erty\n"
     ]
    },
    {
     "name": "stdout",
     "output_type": "stream",
     "text": [
      "string does not start with k\n"
     ]
    }
   ],
   "source": [
    "#Check if the string starts with a particular letter\n",
    "string = input(\"enter your string\")\n",
    "string.lower()\n",
    "if string[0] == \"k\":\n",
    "    print(\"string starts with k\")\n",
    "else:\n",
    "    print(\"string does not start with k\")\n",
    "\n",
    "    "
   ]
  },
  {
   "cell_type": "code",
   "execution_count": 3,
   "id": "e94501f5-c09b-46ff-bdac-c97442f5be19",
   "metadata": {},
   "outputs": [
    {
     "name": "stdin",
     "output_type": "stream",
     "text": [
      "enter your string 4567\n"
     ]
    },
    {
     "name": "stdout",
     "output_type": "stream",
     "text": [
      "Given string is numeric\n"
     ]
    }
   ],
   "source": [
    "#Check if the string is numericY\n",
    "string = input(\"enter your string\")\n",
    "l = lambda x:x.isnumeric()\n",
    "l(string)\n",
    "if l(string)== True:\n",
    "    print(\"Given string is numeric\")\n",
    "else:\n",
    "    print(\"Given string is not numeric\")\n",
    "\n",
    "\n",
    "\n"
   ]
  },
  {
   "cell_type": "code",
   "execution_count": 4,
   "id": "3e0b2c96-4101-468b-9d20-6ce83d082427",
   "metadata": {},
   "outputs": [
    {
     "data": {
      "text/plain": [
       "[('orange', 80), ('mango', 99), ('grapes', 1000)]"
      ]
     },
     "execution_count": 4,
     "metadata": {},
     "output_type": "execute_result"
    }
   ],
   "source": [
    "\"\"\"Sort a list of tuples having fruit names and their quantity. \n",
    "[(\"mango\",99),(\"orange\",80), (\"grapes\", 1000)\"\"\"\n",
    "list1 = [(\"mango\",99),(\"orange\",80), (\"grapes\", 1000)]\n",
    "quantity = lambda x:x[1]\n",
    "sort_fruits = lambda x:x.sort(key = quantity)\n",
    "sort_fruits(list1)\n",
    "list1"
   ]
  },
  {
   "cell_type": "code",
   "execution_count": 5,
   "id": "3df841de-7a7f-4a7f-bab4-c958b9135c1e",
   "metadata": {},
   "outputs": [
    {
     "data": {
      "text/plain": [
       "[1, 4, 9, 16, 25, 36, 49, 64, 81, 100]"
      ]
     },
     "execution_count": 5,
     "metadata": {},
     "output_type": "execute_result"
    }
   ],
   "source": [
    "#Find the squares of numbers from 1 to 10\n",
    "l1 = range(1,11)\n",
    "list(map(lambda x:x**2,l1))"
   ]
  },
  {
   "cell_type": "code",
   "execution_count": 6,
   "id": "0bdd6d2d-5798-477f-9c6a-572385462f5c",
   "metadata": {},
   "outputs": [
    {
     "data": {
      "text/plain": [
       "[1.0,\n",
       " 1.2599210498948732,\n",
       " 1.4422495703074083,\n",
       " 1.5874010519681994,\n",
       " 1.7099759466766968,\n",
       " 1.8171205928321397,\n",
       " 1.912931182772389,\n",
       " 2.0,\n",
       " 2.080083823051904,\n",
       " 2.154434690031884]"
      ]
     },
     "execution_count": 6,
     "metadata": {},
     "output_type": "execute_result"
    }
   ],
   "source": [
    "#Find the cube root of numbers from 1 to 10\n",
    "list(map(lambda x:x**(1/3),l1))"
   ]
  },
  {
   "cell_type": "code",
   "execution_count": 7,
   "id": "a0a2b2a4-d30d-40e6-adfb-38e266c44abe",
   "metadata": {},
   "outputs": [
    {
     "data": {
      "text/plain": [
       "True"
      ]
     },
     "execution_count": 7,
     "metadata": {},
     "output_type": "execute_result"
    }
   ],
   "source": [
    "#Check if a given number is even\n",
    "even = lambda x:x%2 == 0\n",
    "even(68)\n"
   ]
  },
  {
   "cell_type": "code",
   "execution_count": 8,
   "id": "8b6c707f-64fc-407b-8201-66bee5ff4136",
   "metadata": {},
   "outputs": [
    {
     "data": {
      "text/plain": [
       "[1, 3, 5, 7, 9]"
      ]
     },
     "execution_count": 8,
     "metadata": {},
     "output_type": "execute_result"
    }
   ],
   "source": [
    "#Filter odd numbers from the given list.\n",
    "l2 = [1,2,3,4,5,6,7,8,9,10]\n",
    "list(filter(lambda x:x%2 != 0,l2))"
   ]
  },
  {
   "cell_type": "code",
   "execution_count": 9,
   "id": "ae4d0ff3-301b-4ee4-beea-e940ee4fef2b",
   "metadata": {},
   "outputs": [
    {
     "name": "stdout",
     "output_type": "stream",
     "text": [
      "positive_integers =  [0, 1, 2, 3, 4, 5, 6] \n",
      "negative_integers = [-5, -4, -3, -2, -1]\n",
      "[-5, -4, -3, -2, -1, 0, 1, 2, 3, 4, 5, 6]\n"
     ]
    }
   ],
   "source": [
    "#Sort a list of integers into positive and negative integers lists.\n",
    "l = [1,2,3,4,5,6,-1,-2,-3,-4,-5,0]\n",
    "positive_integer = list(filter(lambda x:x>=0,l))\n",
    "negative_integers =  list(filter(lambda x:x<0,l))\n",
    "negative_integers.sort()\n",
    "positive_integer.sort()\n",
    "print(\"positive_integers = \" ,positive_integer,\"\\nnegative_integers =\" , negative_integers)\n",
    "print( negative_integers + positive_integer)\n"
   ]
  },
  {
   "cell_type": "code",
   "execution_count": null,
   "id": "68c8227d-5d2d-4453-9a0d-a7f39b179e86",
   "metadata": {},
   "outputs": [],
   "source": []
  }
 ],
 "metadata": {
  "kernelspec": {
   "display_name": "Python 3 (ipykernel)",
   "language": "python",
   "name": "python3"
  },
  "language_info": {
   "codemirror_mode": {
    "name": "ipython",
    "version": 3
   },
   "file_extension": ".py",
   "mimetype": "text/x-python",
   "name": "python",
   "nbconvert_exporter": "python",
   "pygments_lexer": "ipython3",
   "version": "3.10.8"
  }
 },
 "nbformat": 4,
 "nbformat_minor": 5
}
